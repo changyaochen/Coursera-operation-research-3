{
 "cells": [
  {
   "cell_type": "code",
   "execution_count": 1,
   "id": "0bccda59",
   "metadata": {},
   "outputs": [
    {
     "data": {
      "text/plain": [
       "['GLPK_CMD', 'GUROBI_CMD', 'PULP_CBC_CMD', 'PULP_CHOCO_CMD']"
      ]
     },
     "execution_count": 1,
     "metadata": {},
     "output_type": "execute_result"
    }
   ],
   "source": [
    "import numpy as np\n",
    "import pulp as pl\n",
    "\n",
    "pl.list_solvers(onlyAvailable=True)"
   ]
  },
  {
   "cell_type": "code",
   "execution_count": 2,
   "id": "b1e6e299",
   "metadata": {},
   "outputs": [
    {
     "name": "stdout",
     "output_type": "stream",
     "text": [
      "22.0\n",
      "x_1 = 4.0\n",
      "x_2 = 6.0\n"
     ]
    }
   ],
   "source": [
    "model = pl.LpProblem(name=\"quiz-1\", sense=pl.LpMaximize)\n",
    "\n",
    "x_vars = {}\n",
    "for i in range(1, 3):\n",
    "    x_vars[i] = pl.LpVariable(name=f\"x_{i}\", lowBound=0, cat=\"Continuous\")\n",
    "\n",
    "obj_func = x_vars[1] + 3 * x_vars[2]\n",
    "model += obj_func\n",
    "\n",
    "# Constraints\n",
    "model += (-1 * x_vars[1] + x_vars[2] <= 3, \"constraint_1\")\n",
    "model += (-1 * x_vars[1] + 2 * x_vars[2] <= 8, \"constraint_2\")\n",
    "model += (3 * x_vars[1] + x_vars[2] <= 18, \"constraint_3\")\n",
    "\n",
    "status = model.solve(solver=pl.PULP_CBC_CMD(msg=0))\n",
    "if status == 1:\n",
    "    print(model.objective.value())\n",
    "    for var in model.variables():\n",
    "        print(var.name, \"=\", var.value())"
   ]
  },
  {
   "cell_type": "code",
   "execution_count": 3,
   "id": "93cbd063",
   "metadata": {},
   "outputs": [],
   "source": [
    "# Solve manually"
   ]
  }
 ],
 "metadata": {
  "kernelspec": {
   "display_name": "Python 3 (ipykernel)",
   "language": "python",
   "name": "python3"
  },
  "language_info": {
   "codemirror_mode": {
    "name": "ipython",
    "version": 3
   },
   "file_extension": ".py",
   "mimetype": "text/x-python",
   "name": "python",
   "nbconvert_exporter": "python",
   "pygments_lexer": "ipython3",
   "version": "3.7.11"
  }
 },
 "nbformat": 4,
 "nbformat_minor": 5
}
