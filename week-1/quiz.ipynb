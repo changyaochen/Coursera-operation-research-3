{
 "cells": [
  {
   "cell_type": "markdown",
   "id": "a99ba58c",
   "metadata": {},
   "source": [
    "![title](quiz.png)"
   ]
  },
  {
   "cell_type": "code",
   "execution_count": 1,
   "id": "0bccda59",
   "metadata": {},
   "outputs": [
    {
     "data": {
      "text/plain": [
       "['GLPK_CMD', 'GUROBI_CMD', 'PULP_CBC_CMD', 'PULP_CHOCO_CMD']"
      ]
     },
     "execution_count": 1,
     "metadata": {},
     "output_type": "execute_result"
    }
   ],
   "source": [
    "import numpy as np\n",
    "import pulp as pl\n",
    "\n",
    "pl.list_solvers(onlyAvailable=True)"
   ]
  },
  {
   "cell_type": "code",
   "execution_count": 2,
   "id": "b1e6e299",
   "metadata": {},
   "outputs": [
    {
     "name": "stdout",
     "output_type": "stream",
     "text": [
      "22.0\n",
      "x_1 = 4.0\n",
      "x_2 = 6.0\n"
     ]
    }
   ],
   "source": [
    "model = pl.LpProblem(name=\"quiz-1\", sense=pl.LpMaximize)\n",
    "\n",
    "x_vars = {}\n",
    "for i in range(1, 3):\n",
    "    x_vars[i] = pl.LpVariable(name=f\"x_{i}\", lowBound=0, cat=\"Continuous\")\n",
    "\n",
    "obj_func = x_vars[1] + 3 * x_vars[2]\n",
    "model += obj_func\n",
    "\n",
    "# Constraints\n",
    "model += (-1 * x_vars[1] + x_vars[2] <= 3, \"constraint_1\")\n",
    "model += (-1 * x_vars[1] + 2 * x_vars[2] <= 8, \"constraint_2\")\n",
    "model += (3 * x_vars[1] + x_vars[2] <= 18, \"constraint_3\")\n",
    "\n",
    "status = model.solve(solver=pl.PULP_CBC_CMD(msg=0))\n",
    "if status == 1:\n",
    "    print(model.objective.value())\n",
    "    for var in model.variables():\n",
    "        print(var.name, \"=\", var.value())"
   ]
  },
  {
   "cell_type": "code",
   "execution_count": 3,
   "id": "93cbd063",
   "metadata": {},
   "outputs": [
    {
     "name": "stdout",
     "output_type": "stream",
     "text": [
      "[[-1  1]\n",
      " [-1  0]\n",
      " [ 3  0]]\n",
      "[[-4.]\n",
      " [ 3.]]\n",
      "The basis for the bfs is [ 3.  2. 15.], with indices of [1, 3, 4]\n",
      "The index of the entering variable is 0\n",
      "The index of the leaving variable is 3\n",
      "\n",
      "The basis for the bfs is [5. 7. 2.], with indices of [1, 4, 0]\n",
      "The index of the entering variable is 2\n",
      "The index of the leaving variable is 4\n",
      "\n",
      "[[22.]]\n"
     ]
    }
   ],
   "source": [
    "# Solve manually\n",
    "A = np.array([\n",
    "    [-1, 1, 1, 0, 0],\n",
    "    [-1, 2, 0, 1, 0],\n",
    "    [3, 1, 0, 0, 1],\n",
    "])\n",
    "\n",
    "b = np.array([3, 8, 18]).reshape((-1, 1))\n",
    "c = np.array([1, 3, 0, 0, 0]).reshape((-1, 1))\n",
    "m, n = A.shape\n",
    "\n",
    "c_B_idx = [1, 3, 4]  # inital guess of the basis\n",
    "c_N_idx = [x for x in range(n) if x not in c_B_idx]\n",
    "\n",
    "c_B = np.array(c[c_B_idx])\n",
    "c_N = np.array(c[c_N_idx])\n",
    "A_B = A[:, c_B_idx]\n",
    "A_N = A[:, c_N_idx]\n",
    "reduced_costs = (c_B.T @ np.linalg.inv(A_B) @ A_N - c_N.T).T\n",
    "\n",
    "print(A_N)\n",
    "print(reduced_costs)\n",
    "\n",
    "while reduced_costs.min() < 0:\n",
    "    x_B = np.linalg.inv(A_B) @ b\n",
    "    print(f\"The basis for the bfs is {x_B.flatten()}, with indices of {c_B_idx}\")\n",
    "    # pick the entering variable\n",
    "    enter_idx = c_N_idx[np.argmax(reduced_costs < 0)]\n",
    "    print(f\"The index of the entering variable is {enter_idx}\")\n",
    "    \n",
    "    # ratio test\n",
    "    left = np.linalg.inv(A_B) @ A[:, [enter_idx]]\n",
    "    right = np.linalg.inv(A_B) @ b\n",
    "    ratios = np.divide(right, left)\n",
    "    \n",
    "    # pick the leaving variable\n",
    "    leaving_idx = c_B_idx[np.where(ratios > 0, ratios, np.inf).argmin()]\n",
    "    print(f\"The index of the leaving variable is {leaving_idx}\\n\")\n",
    "    \n",
    "    # construct new basis\n",
    "    c_B_idx = [x for x in c_B_idx if x != leaving_idx] + [enter_idx]\n",
    "    c_N_idx = [x for x in c_N_idx if x != enter_idx] + [leaving_idx]\n",
    "    \n",
    "    # update the values\n",
    "    c_B = np.array(c[c_B_idx])\n",
    "    c_N = np.array(c[c_N_idx])\n",
    "    A_B = A[:, c_B_idx]\n",
    "    A_N = A[:, c_N_idx]\n",
    "    reduced_costs = (c_B.T @ np.linalg.inv(A_B) @ A_N - c_N.T).T\n",
    "    \n",
    "z = c_B.T @ np.linalg.inv(A_B) @ b\n",
    "print(z)"
   ]
  }
 ],
 "metadata": {
  "kernelspec": {
   "display_name": "Python 3 (ipykernel)",
   "language": "python",
   "name": "python3"
  },
  "language_info": {
   "codemirror_mode": {
    "name": "ipython",
    "version": 3
   },
   "file_extension": ".py",
   "mimetype": "text/x-python",
   "name": "python",
   "nbconvert_exporter": "python",
   "pygments_lexer": "ipython3",
   "version": "3.7.11"
  }
 },
 "nbformat": 4,
 "nbformat_minor": 5
}
