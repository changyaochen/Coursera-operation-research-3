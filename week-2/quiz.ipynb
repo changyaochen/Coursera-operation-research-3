{
 "cells": [
  {
   "cell_type": "code",
   "execution_count": 1,
   "id": "79c68d94",
   "metadata": {},
   "outputs": [
    {
     "name": "stdout",
     "output_type": "stream",
     "text": [
      "Set parameter Username\n",
      "Academic license - for non-commercial use only - expires 2022-11-23\n",
      "No parameters matching '_test' found\n"
     ]
    },
    {
     "data": {
      "text/plain": [
       "['GLPK_CMD', 'GUROBI', 'GUROBI_CMD', 'PULP_CBC_CMD', 'PULP_CHOCO_CMD']"
      ]
     },
     "execution_count": 1,
     "metadata": {},
     "output_type": "execute_result"
    }
   ],
   "source": [
    "import pulp as pl\n",
    "\n",
    "from gurobipy import GRB\n",
    "from gurobipy import Model\n",
    "\n",
    "pl.listSolvers(onlyAvailable=True)"
   ]
  },
  {
   "cell_type": "markdown",
   "id": "7c4e9fb3",
   "metadata": {},
   "source": [
    "The following is the original question shown in the quiz, howerver, the primal is infesiable as it is. We need to change the non-positive constraint of $x_2$ to non-negative, in the actual computation.\n",
    "\n",
    "![image](./quiz.png)"
   ]
  },
  {
   "cell_type": "code",
   "execution_count": 2,
   "id": "e64a60ae",
   "metadata": {},
   "outputs": [
    {
     "name": "stdout",
     "output_type": "stream",
     "text": [
      "Gurobi Optimizer version 9.5.0 build v9.5.0rc5 (mac64[x86])\n",
      "Thread count: 2 physical cores, 4 logical processors, using up to 4 threads\n",
      "Optimize a model with 3 rows, 3 columns and 7 nonzeros\n",
      "Model fingerprint: 0x323a8293\n",
      "Coefficient statistics:\n",
      "  Matrix range     [1e+00, 3e+00]\n",
      "  Objective range  [1e+00, 4e+00]\n",
      "  Bounds range     [0e+00, 0e+00]\n",
      "  RHS range        [3e+00, 1e+01]\n",
      "Presolve removed 1 rows and 1 columns\n",
      "Presolve time: 0.08s\n",
      "Presolved: 2 rows, 2 columns, 4 nonzeros\n",
      "\n",
      "Iteration    Objective       Primal Inf.    Dual Inf.      Time\n",
      "       0    1.7000000e+01   0.000000e+00   0.000000e+00      0s\n",
      "       0    1.7000000e+01   0.000000e+00   0.000000e+00      0s\n",
      "\n",
      "Solved in 0 iterations and 0.14 seconds (0.00 work units)\n",
      "Optimal objective  1.700000000e+01\n"
     ]
    }
   ],
   "source": [
    "model_gurobi = Model(name=\"week-2-quiz\")\n",
    "\n",
    "x1 = model_gurobi.addVar(lb=0, vtype=GRB.CONTINUOUS, name=\"x1\")\n",
    "x2 = model_gurobi.addVar(lb=0, vtype=GRB.CONTINUOUS, name=\"x2\")\n",
    "x3 = model_gurobi.addVar(lb=-1e100, vtype=GRB.CONTINUOUS, name=\"x3\")\n",
    "\n",
    "model_gurobi.setObjective(expr=4 * x1 - 2 * x2 + x3, sense=GRB.MAXIMIZE)\n",
    "model_gurobi.addConstr(2 * x1 + x2 <= 10, \"constraint_1\")\n",
    "model_gurobi.addConstr(x2 + x3 >= -3, \"constraint_2\")\n",
    "model_gurobi.addConstr(x1 + 3 * x2 - 3 * x3 == 14, \"constraint_3\")\n",
    "\n",
    "model_gurobi.optimize()"
   ]
  },
  {
   "cell_type": "code",
   "execution_count": 3,
   "id": "673e9dde",
   "metadata": {},
   "outputs": [
    {
     "data": {
      "text/plain": [
       "[2.1666666666666665, 0.0, -0.3333333333333333]"
      ]
     },
     "execution_count": 3,
     "metadata": {},
     "output_type": "execute_result"
    }
   ],
   "source": [
    "# shadow prices\n",
    "model_gurobi.Pi"
   ]
  },
  {
   "cell_type": "code",
   "execution_count": 4,
   "id": "0ee3b871",
   "metadata": {},
   "outputs": [
    {
     "name": "stdout",
     "output_type": "stream",
     "text": [
      "Welcome to the CBC MILP Solver \n",
      "Version: 2.10.3 \n",
      "Build Date: Dec 15 2019 \n",
      "\n",
      "command line - /Users/changyaochen/.local/share/virtualenvs/Coursera-operation-research-3-RVohkWLL/lib/python3.7/site-packages/pulp/apis/../solverdir/cbc/osx/64/cbc /var/folders/ff/lzxbccs579ldzr_264f20rtr0000gn/T/16bb26ca2d8248aab335f3ca5de84d5e-pulp.mps max branch printingOptions all solution /var/folders/ff/lzxbccs579ldzr_264f20rtr0000gn/T/16bb26ca2d8248aab335f3ca5de84d5e-pulp.sol (default strategy 1)\n",
      "At line 2 NAME          MODEL\n",
      "At line 3 ROWS\n",
      "At line 8 COLUMNS\n",
      "At line 19 RHS\n",
      "At line 23 BOUNDS\n",
      "At line 25 ENDATA\n",
      "Problem MODEL has 3 rows, 3 columns and 7 elements\n",
      "Coin0008I MODEL read with 0 errors\n",
      "Presolve 0 (-3) rows, 0 (-3) columns and 0 (-7) elements\n",
      "Empty problem - 0 rows, 0 columns and 0 elements\n",
      "Optimal - objective value 17\n",
      "After Postsolve, objective 17, infeasibilities - dual 0 (0), primal 0 (0)\n",
      "Optimal objective 17 - 0 iterations time 0.002, Presolve 0.00\n",
      "Option for printingOptions changed from normal to all\n",
      "Total time (CPU seconds):       0.00   (Wallclock seconds):       0.04\n",
      "\n"
     ]
    }
   ],
   "source": [
    "model = pl.LpProblem(name=\"week-2-quiz\", sense=pl.LpMaximize)\n",
    "\n",
    "# Decision variables\n",
    "x1 = pl.LpVariable(name=\"x1\", lowBound=0)\n",
    "x2 = pl.LpVariable(name=\"x2\", lowBound=0)\n",
    "x3 = pl.LpVariable(name=\"x3\")\n",
    "\n",
    "# Objective function\n",
    "model += pl.lpSum([4 * x1, -2 * x2, x3])\n",
    "\n",
    "# Constraints\n",
    "model += (2 * x1 + x2 <= 10, \"constraint_1\")\n",
    "model += (x2 + x3 >= -3, \"constraint_2\")\n",
    "model += (x1 + 3 * x2 - 3 * x3 == 14, \"constraint_3\")\n",
    "\n",
    "_ = model.solve(solver=pl.PULP_CBC_CMD())"
   ]
  },
  {
   "cell_type": "code",
   "execution_count": 5,
   "id": "4f26a22e",
   "metadata": {},
   "outputs": [
    {
     "name": "stdout",
     "output_type": "stream",
     "text": [
      "The value of x1 is: 5.0\n",
      "The value of x2 is: 0.0\n",
      "The value of x3 is: -3.0\n",
      "For constraint: 2*x1 + x2 <= 10, its shadow price is 2.1666667, with slack of -0.0\n",
      "For constraint: x2 + x3 >= -3, its shadow price is -0.0, with slack of -0.0\n",
      "For constraint: x1 + 3*x2 - 3*x3 = 14, its shadow price is -0.33333333, with slack of -0.0\n"
     ]
    }
   ],
   "source": [
    "for v in model.variables():\n",
    "    print(f\"The value of {v} is: {v.value()}\")\n",
    "\n",
    "for name, c in list(model.constraints.items()):\n",
    "    print(f\"For constraint: {c}, its shadow price is {c.pi}, with slack of {c.slack}\")"
   ]
  },
  {
   "cell_type": "code",
   "execution_count": null,
   "id": "6c733e3f",
   "metadata": {},
   "outputs": [],
   "source": []
  }
 ],
 "metadata": {
  "kernelspec": {
   "display_name": "Python 3 (ipykernel)",
   "language": "python",
   "name": "python3"
  },
  "language_info": {
   "codemirror_mode": {
    "name": "ipython",
    "version": 3
   },
   "file_extension": ".py",
   "mimetype": "text/x-python",
   "name": "python",
   "nbconvert_exporter": "python",
   "pygments_lexer": "ipython3",
   "version": "3.7.11"
  }
 },
 "nbformat": 4,
 "nbformat_minor": 5
}
