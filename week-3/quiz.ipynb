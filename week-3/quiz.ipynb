{
 "cells": [
  {
   "cell_type": "code",
   "execution_count": 1,
   "id": "6cb79728",
   "metadata": {
    "ExecuteTime": {
     "end_time": "2022-01-16T05:01:13.449833Z",
     "start_time": "2022-01-16T05:01:13.297678Z"
    }
   },
   "outputs": [],
   "source": [
    "import numpy as np\n",
    "import pulp as pl"
   ]
  },
  {
   "cell_type": "code",
   "execution_count": 2,
   "id": "4b641fb2",
   "metadata": {
    "ExecuteTime": {
     "end_time": "2022-01-16T05:01:13.462572Z",
     "start_time": "2022-01-16T05:01:13.451710Z"
    }
   },
   "outputs": [
    {
     "data": {
      "text/plain": [
       "array([[1., 1., 1.]])"
      ]
     },
     "execution_count": 2,
     "metadata": {},
     "output_type": "execute_result"
    }
   ],
   "source": [
    "# question 1\n",
    "c_B = np.array([2, 3]).reshape((-1, 1))\n",
    "c_N = np.array([0, 0, 0]).reshape((-1, 1))\n",
    "\n",
    "A_B = np.array([\n",
    "    [1, 1],\n",
    "    [1, 2],\n",
    "])\n",
    "A_N = np.array([\n",
    "    [1, 1, 0],\n",
    "    [0, 0, 1],\n",
    "])\n",
    "\n",
    "c_B.T @ np.linalg.inv(A_B) @ A_N - c_N.T"
   ]
  },
  {
   "cell_type": "code",
   "execution_count": 3,
   "id": "1e97ff69",
   "metadata": {
    "ExecuteTime": {
     "end_time": "2022-01-16T05:01:13.467974Z",
     "start_time": "2022-01-16T05:01:13.463949Z"
    }
   },
   "outputs": [
    {
     "data": {
      "text/plain": [
       "array([[-7.]])"
      ]
     },
     "execution_count": 3,
     "metadata": {},
     "output_type": "execute_result"
    }
   ],
   "source": [
    "# question 2\n",
    "c_j = 4\n",
    "A_j = np.array([-1, -2]).reshape((-1, 1))\n",
    "c_B.T @ np.linalg.inv(A_B) @ A_j - c_j"
   ]
  },
  {
   "cell_type": "code",
   "execution_count": 4,
   "id": "73ed1b5e",
   "metadata": {
    "ExecuteTime": {
     "end_time": "2022-01-16T05:01:13.496446Z",
     "start_time": "2022-01-16T05:01:13.470380Z"
    }
   },
   "outputs": [
    {
     "name": "stdout",
     "output_type": "stream",
     "text": [
      "Welcome to the CBC MILP Solver \n",
      "Version: 2.10.3 \n",
      "Build Date: Dec 15 2019 \n",
      "\n",
      "command line - /Users/changyaochen/venvs/Coursera-operation-research-3-ONthjc7U/lib/python3.7/site-packages/pulp/apis/../solverdir/cbc/osx/64/cbc /var/folders/x0/qqz15_vj7m74jt8xgl51279h0000gp/T/fccc09c9e08a4224944b705d7297cd0a-pulp.mps max branch printingOptions all solution /var/folders/x0/qqz15_vj7m74jt8xgl51279h0000gp/T/fccc09c9e08a4224944b705d7297cd0a-pulp.sol (default strategy 1)\n",
      "At line 2 NAME          MODEL\n",
      "At line 3 ROWS\n",
      "At line 7 COLUMNS\n",
      "At line 16 RHS\n",
      "At line 19 BOUNDS\n",
      "At line 20 ENDATA\n",
      "Problem MODEL has 2 rows, 3 columns and 6 elements\n",
      "Coin0008I MODEL read with 0 errors\n",
      "Presolve 2 (0) rows, 2 (-1) columns and 4 (-2) elements\n",
      "0  Obj -0 Dual inf 4.999998 (2)\n",
      "1  Obj 8\n",
      "Optimal - objective value 8\n",
      "After Postsolve, objective 8, infeasibilities - dual 0 (0), primal 0 (0)\n",
      "Optimal objective 8 - 1 iterations time 0.002, Presolve 0.00\n",
      "Option for printingOptions changed from normal to all\n",
      "Total time (CPU seconds):       0.00   (Wallclock seconds):       0.00\n",
      "\n",
      "4.0\n",
      "0.0\n",
      "0.0\n"
     ]
    }
   ],
   "source": [
    "# question 3\n",
    "model = pl.LpProblem(name=\"quiz\", sense=pl.LpMaximize)\n",
    "\n",
    "x_1 = pl.LpVariable(name=\"x_1\", lowBound=0)\n",
    "x_2 = pl.LpVariable(name=\"x_2\", lowBound=0)\n",
    "x_3 = pl.LpVariable(name=\"x_3\", lowBound=0)\n",
    "\n",
    "model += 2 * x_1 + 3 * x_2\n",
    "model += (x_1 + x_2 + x_3 <= 4, \"constraint_1\")\n",
    "model += (x_1 + 2 * x_2 + x_3 <= 4, \"constraint_2\")\n",
    "\n",
    "status = model.solve()\n",
    "if status == 1:\n",
    "    for x in model.variables():\n",
    "        print(x.value())"
   ]
  },
  {
   "cell_type": "code",
   "execution_count": 5,
   "id": "9ece0fdb",
   "metadata": {
    "ExecuteTime": {
     "end_time": "2022-01-16T05:01:13.510509Z",
     "start_time": "2022-01-16T05:01:13.499883Z"
    }
   },
   "outputs": [
    {
     "data": {
      "text/plain": [
       "array([[ 2.],\n",
       "       [ 2.],\n",
       "       [-1.]])"
      ]
     },
     "execution_count": 5,
     "metadata": {},
     "output_type": "execute_result"
    }
   ],
   "source": [
    "b = np.array([4, 6, 1]).reshape((-1, 1))\n",
    "\n",
    "c_B = np.array([2, 3, 0]).reshape((-1, 1))\n",
    "c_N = np.array([1, 0, 0]).reshape((-1, 1))\n",
    "\n",
    "A_B = np.array([\n",
    "    [1, 1, 0],\n",
    "    [1, 2, 0],\n",
    "    [0, 1, 1],\n",
    "])\n",
    "A_N = np.array([\n",
    "    [1, 1, 0],\n",
    "    [0, 0, 1],\n",
    "    [1, 0, 0],\n",
    "])\n",
    "\n",
    "np.linalg.inv(A_B) @ b"
   ]
  },
  {
   "cell_type": "code",
   "execution_count": 6,
   "id": "c0fe12f5",
   "metadata": {
    "ExecuteTime": {
     "end_time": "2022-01-16T05:01:13.518742Z",
     "start_time": "2022-01-16T05:01:13.513498Z"
    }
   },
   "outputs": [
    {
     "data": {
      "text/plain": [
       "array([[ 2.,  2., -1.],\n",
       "       [-1., -1.,  1.],\n",
       "       [ 2.,  1., -1.]])"
      ]
     },
     "execution_count": 6,
     "metadata": {},
     "output_type": "execute_result"
    }
   ],
   "source": [
    "# question 4\n",
    "np.linalg.inv(A_B) @ A_N "
   ]
  }
 ],
 "metadata": {
  "kernelspec": {
   "display_name": "Python 3 (ipykernel)",
   "language": "python",
   "name": "python3"
  },
  "language_info": {
   "codemirror_mode": {
    "name": "ipython",
    "version": 3
   },
   "file_extension": ".py",
   "mimetype": "text/x-python",
   "name": "python",
   "nbconvert_exporter": "python",
   "pygments_lexer": "ipython3",
   "version": "3.7.11"
  },
  "toc": {
   "base_numbering": 1,
   "nav_menu": {},
   "number_sections": false,
   "sideBar": true,
   "skip_h1_title": false,
   "title_cell": "Table of Contents",
   "title_sidebar": "Contents",
   "toc_cell": true,
   "toc_position": {},
   "toc_section_display": true,
   "toc_window_display": true
  }
 },
 "nbformat": 4,
 "nbformat_minor": 5
}
